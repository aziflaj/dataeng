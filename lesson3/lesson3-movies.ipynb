{
 "cells": [
  {
   "cell_type": "code",
   "execution_count": null,
   "id": "adb7c2da-8902-495f-8204-367a59bc051e",
   "metadata": {},
   "outputs": [],
   "source": [
    "!pip3 install pandas numpy matplotlib plotly"
   ]
  },
  {
   "cell_type": "code",
   "execution_count": null,
   "id": "0c9efbd5-9520-42af-8dc7-773bc9df0d73",
   "metadata": {},
   "outputs": [],
   "source": [
    "# import necesary libs\n",
    "import pandas as pd\n",
    "import numpy as np\n",
    "import matplotlib as mpl\n",
    "import matplotlib.pyplot as plt"
   ]
  },
  {
   "cell_type": "code",
   "execution_count": null,
   "id": "00960755-0d76-424c-9244-249574e425cf",
   "metadata": {},
   "outputs": [],
   "source": [
    "df = pd.read_csv(\"./imdb_top_1000.csv\")\n",
    "print(df.describe())\n",
    "print(\"#\" * 30)\n",
    "print(df.dtypes)"
   ]
  },
  {
   "cell_type": "code",
   "execution_count": null,
   "id": "d96bd802-f450-4757-9c01-450a2831be21",
   "metadata": {},
   "outputs": [],
   "source": [
    "sampled_data = df.sample(5)\n",
    "print(sampled_data[['Series_Title', 'Released_Year', 'Genre', 'Director', 'Star1', 'Star2', 'Star3', 'Star4']])"
   ]
  },
  {
   "cell_type": "code",
   "execution_count": null,
   "id": "d0dd1afa-31e6-40ae-a6c5-03b417c66b13",
   "metadata": {},
   "outputs": [],
   "source": [
    "# print(df[\"Released_Year\"][1:10])\n",
    "# convert years to numbers\n",
    "df[\"Released_Year\"] = pd.to_numeric(df[\"Released_Year\"])"
   ]
  },
  {
   "cell_type": "code",
   "execution_count": null,
   "id": "b2130157-e347-403d-bd4c-5ea4d0292b2d",
   "metadata": {},
   "outputs": [],
   "source": [
    "# print(len(df.loc[df[\"Released_Year\"] == \"PG\"])) #=> 1\n",
    "print(df.loc[df[\"Released_Year\"] == \"PG\"])"
   ]
  },
  {
   "cell_type": "code",
   "execution_count": null,
   "id": "3a18c095-7170-4943-b3f4-aba5146e2fc2",
   "metadata": {},
   "outputs": [],
   "source": [
    "df.loc[966, \"Released_Year\"] = \"1995\"\n",
    "print(df.loc[[966]])"
   ]
  },
  {
   "cell_type": "code",
   "execution_count": null,
   "id": "a1a90ce5-7cbb-42bd-921d-cdd54edf3e3f",
   "metadata": {},
   "outputs": [],
   "source": [
    "# convert years to numbers, after cleanup\n",
    "df[\"Released_Year\"] = pd.to_numeric(df[\"Released_Year\"])\n",
    "print(df.dtypes)"
   ]
  },
  {
   "cell_type": "code",
   "execution_count": null,
   "id": "a2d81fd5-c0ae-48eb-97de-e2b358223f16",
   "metadata": {},
   "outputs": [],
   "source": [
    "# filter movies between 1990 and 2020\n",
    "filtered_movies = df[(df['Released_Year'] >= 1990) & (df['Released_Year'] <= 2020)]\n",
    "print(filtered_movies[1:10])"
   ]
  },
  {
   "cell_type": "code",
   "execution_count": null,
   "id": "0c38f902-6b02-4edd-a4d0-4efa2ac48632",
   "metadata": {},
   "outputs": [],
   "source": [
    "# Group the data by year and genre\n",
    "grouped = filtered_movies.groupby(['Released_Year', 'Genre']).size().unstack().fillna(0)"
   ]
  },
  {
   "cell_type": "code",
   "execution_count": null,
   "id": "2d66fd7c-4b21-43af-9662-cfb8851c9a7a",
   "metadata": {},
   "outputs": [],
   "source": [
    "# Stack graph of genres per year\n",
    "\n",
    "grouped.plot(kind='bar', stacked=True, figsize=(12, 8))\n",
    "plt.title('Stacked Bar Chart of Movie Genres per Year')\n",
    "plt.xlabel('Year')\n",
    "plt.ylabel('Number of Movies')\n",
    "plt.legend(title='Genres', bbox_to_anchor=(1.05, 1), loc='upper left')\n",
    "plt.tight_layout()\n",
    "plt.show()\n"
   ]
  },
  {
   "cell_type": "code",
   "execution_count": null,
   "id": "d75d954d-be50-4d9b-a9f3-7c0f3b593fb8",
   "metadata": {},
   "outputs": [],
   "source": [
    "single_row = df.loc[69]\n",
    "print(single_row)"
   ]
  },
  {
   "cell_type": "code",
   "execution_count": null,
   "id": "7e86bc37-768f-420d-893d-8d123b2efac2",
   "metadata": {},
   "outputs": [],
   "source": [
    "# single_row.to_frame() is a df.Series.\n",
    "# Transposing it converts it to a df.DataFrame\n",
    "updated_row = single_row.to_frame().T.assign(Genre=df['Genre'].str.split(', ')).explode('Genre')\n",
    "print(updated_row)"
   ]
  },
  {
   "cell_type": "code",
   "execution_count": null,
   "id": "7fc9f794-74cc-4c2b-a43c-4ff2423e8fdc",
   "metadata": {},
   "outputs": [],
   "source": [
    "# now, onto the whole shebang\n",
    "exploded_df = df.assign(Genre=df['Genre'].str.split(', ')).explode('Genre')\n",
    "print(len(exploded_df))"
   ]
  },
  {
   "cell_type": "code",
   "execution_count": null,
   "id": "a9b2c45a-13f4-453e-9b40-e587b3cc8652",
   "metadata": {},
   "outputs": [],
   "source": [
    "exploded_n_grouped = \\\n",
    "    exploded_df[(exploded_df['Released_Year'] >= 1990) & (exploded_df['Released_Year'] <= 2020)] \\\n",
    "    .groupby(['Released_Year', 'Genre']).size().unstack().fillna(0)"
   ]
  },
  {
   "cell_type": "code",
   "execution_count": null,
   "id": "d02c609a-a6e0-4b53-b9c1-f943715bef7d",
   "metadata": {},
   "outputs": [],
   "source": [
    "# Stack graph of genres per year, onto the exploded group\n",
    "exploded_n_grouped.plot(kind='bar', stacked=True, figsize=(12, 8))\n",
    "plt.title('Stacked Bar Chart of Movie Genres per Year')\n",
    "plt.xlabel('Year')\n",
    "plt.ylabel('Number of Movies')\n",
    "plt.legend(title='Genres', bbox_to_anchor=(1.05, 1), loc='upper left')\n",
    "plt.tight_layout()\n",
    "plt.show()"
   ]
  },
  {
   "cell_type": "code",
   "execution_count": null,
   "id": "45c8037d-f4e9-4114-a5fc-c3b5e1c68395",
   "metadata": {},
   "outputs": [],
   "source": [
    "eng = exploded_n_grouped\n",
    "genre_count = eng.shape[1]\n",
    "print(genre_count)\n",
    "colors = mpl.colormaps['tab20']"
   ]
  },
  {
   "cell_type": "code",
   "execution_count": null,
   "id": "d8f28d3a-8cd1-4303-9425-6deb6ba9cf34",
   "metadata": {},
   "outputs": [],
   "source": [
    "def plot_data(dataframe):\n",
    "    fig, ax = plt.subplots(figsize=(12, 8))\n",
    "    bottom = np.zeros(len(dataframe.index))\n",
    "    for i, (colname, col) in enumerate(dataframe.items()):\n",
    "        ax.bar(grouped.index, col, bottom=bottom, label=colname, color=colors(i))\n",
    "        bottom += np.array(col)\n",
    "    \n",
    "    plt.title('Stacked Bar Chart of Movie Genres per Year (1990 - 2020)')\n",
    "    plt.xlabel('Year')\n",
    "    plt.ylabel('Number of Movies')\n",
    "    plt.legend(title='Genres', bbox_to_anchor=(1.05, 1), loc='upper left')\n",
    "    plt.tight_layout()\n",
    "    plt.show()\n",
    "\n",
    "plot_data(eng)"
   ]
  },
  {
   "cell_type": "code",
   "execution_count": null,
   "id": "e827b221-ab83-4b16-bcf3-5b400e19f887",
   "metadata": {},
   "outputs": [],
   "source": [
    "# normalize by genre:\n",
    "# the provided dataset is poor for certain years (e.g. < 20 movies in 2020)\n",
    "# To normalize the dataset, divide the # of movies in a given genre by the # of movies in that year\n",
    "\n",
    "movie_count_per_year = filtered_movies['Released_Year'].value_counts()\n",
    "print(movie_count_per_year)"
   ]
  },
  {
   "cell_type": "code",
   "execution_count": null,
   "id": "43cc4f21-6d8a-4c04-a76e-d3a5bb1b03bd",
   "metadata": {},
   "outputs": [],
   "source": [
    "normalized_grouped = eng.div(movie_count_per_year, axis=0)\n",
    "print(normalized_grouped.sample(5))"
   ]
  },
  {
   "cell_type": "code",
   "execution_count": null,
   "id": "c77bfaab-8df0-46eb-9d5e-19881238e75b",
   "metadata": {},
   "outputs": [],
   "source": [
    "plot_data(normalized_grouped)"
   ]
  },
  {
   "cell_type": "code",
   "execution_count": null,
   "id": "e6823276-1960-42e5-a42d-eeb1f500e27f",
   "metadata": {},
   "outputs": [],
   "source": [
    "df[df[\"Released_Year\"] == 2009][[\"Series_Title\", \"Director\", \"IMDB_Rating\"]]"
   ]
  }
 ],
 "metadata": {
  "kernelspec": {
   "display_name": "Python 3 (ipykernel)",
   "language": "python",
   "name": "python3"
  },
  "language_info": {
   "codemirror_mode": {
    "name": "ipython",
    "version": 3
   },
   "file_extension": ".py",
   "mimetype": "text/x-python",
   "name": "python",
   "nbconvert_exporter": "python",
   "pygments_lexer": "ipython3",
   "version": "3.10.9"
  }
 },
 "nbformat": 4,
 "nbformat_minor": 5
}
