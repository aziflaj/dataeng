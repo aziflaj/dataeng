{
 "cells": [
  {
   "cell_type": "code",
   "execution_count": 11,
   "id": "964b7914-f0e5-4e4b-a271-c28707d842ab",
   "metadata": {},
   "outputs": [],
   "source": [
    "import pandas as pd\n",
    "import numpy as np"
   ]
  },
  {
   "cell_type": "code",
   "execution_count": 8,
   "id": "f8aebcdf-1155-4b06-8d06-6528b50fb4b6",
   "metadata": {},
   "outputs": [],
   "source": [
    "data = pd.read_csv(\"./covid19/worldometer_data.csv\")"
   ]
  },
  {
   "cell_type": "code",
   "execution_count": 9,
   "id": "c66be9e5-7df2-4785-bee7-d9884c8f96a9",
   "metadata": {},
   "outputs": [
    {
     "name": "stdout",
     "output_type": "stream",
     "text": [
      "  Country/Region      Continent    Population  TotalCases  NewCases  \\\n",
      "0            USA  North America  3.311981e+08     5032179       NaN   \n",
      "1         Brazil  South America  2.127107e+08     2917562       NaN   \n",
      "2          India           Asia  1.381345e+09     2025409       NaN   \n",
      "3         Russia         Europe  1.459409e+08      871894       NaN   \n",
      "4   South Africa         Africa  5.938157e+07      538184       NaN   \n",
      "\n",
      "   TotalDeaths  NewDeaths  TotalRecovered  NewRecovered  ActiveCases  \\\n",
      "0     162804.0        NaN       2576668.0           NaN    2292707.0   \n",
      "1      98644.0        NaN       2047660.0           NaN     771258.0   \n",
      "2      41638.0        NaN       1377384.0           NaN     606387.0   \n",
      "3      14606.0        NaN        676357.0           NaN     180931.0   \n",
      "4       9604.0        NaN        387316.0           NaN     141264.0   \n",
      "\n",
      "   Serious,Critical  Tot Cases/1M pop  Deaths/1M pop  TotalTests  \\\n",
      "0           18296.0           15194.0          492.0  63139605.0   \n",
      "1            8318.0           13716.0          464.0  13206188.0   \n",
      "2            8944.0            1466.0           30.0  22149351.0   \n",
      "3            2300.0            5974.0          100.0  29716907.0   \n",
      "4             539.0            9063.0          162.0   3149807.0   \n",
      "\n",
      "   Tests/1M pop      WHO Region  \n",
      "0      190640.0        Americas  \n",
      "1       62085.0        Americas  \n",
      "2       16035.0  South-EastAsia  \n",
      "3      203623.0          Europe  \n",
      "4       53044.0          Africa  \n"
     ]
    }
   ],
   "source": [
    "print(data.head())"
   ]
  },
  {
   "cell_type": "code",
   "execution_count": 10,
   "id": "bf494f10-4fc1-41ca-8c05-b75b5263af7d",
   "metadata": {},
   "outputs": [
    {
     "name": "stdout",
     "output_type": "stream",
     "text": [
      "   Country/Region Continent  Population  TotalCases  NewCases  TotalDeaths  \\\n",
      "94        Albania    Europe   2877470.0        6016       NaN        188.0   \n",
      "\n",
      "    NewDeaths  TotalRecovered  NewRecovered  ActiveCases  Serious,Critical  \\\n",
      "94        NaN          3155.0           NaN       2673.0              23.0   \n",
      "\n",
      "    Tot Cases/1M pop  Deaths/1M pop  TotalTests  Tests/1M pop WHO Region  \n",
      "94            2091.0           65.0     38997.0       13553.0     Europe  \n"
     ]
    }
   ],
   "source": [
    "# Print data for a single country\n",
    "print(data.loc[data[\"Country/Region\"] == \"Albania\"])"
   ]
  },
  {
   "cell_type": "code",
   "execution_count": 12,
   "id": "13c27afe-57ee-439d-93af-273b01457a08",
   "metadata": {},
   "outputs": [
    {
     "name": "stdout",
     "output_type": "stream",
     "text": [
      "   Country/Region Continent  Population  TotalCases  NewCases  TotalDeaths  \\\n",
      "94        Albania    Europe   2877470.0        6016       0.0        188.0   \n",
      "\n",
      "    NewDeaths  TotalRecovered  NewRecovered  ActiveCases  Serious,Critical  \\\n",
      "94        0.0          3155.0           0.0       2673.0              23.0   \n",
      "\n",
      "    Tot Cases/1M pop  Deaths/1M pop  TotalTests  Tests/1M pop WHO Region  \n",
      "94            2091.0           65.0     38997.0       13553.0     Europe  \n"
     ]
    }
   ],
   "source": [
    "data = data.replace('', np.nan).fillna(0)\n",
    "print(data.loc[data[\"Country/Region\"] == \"Albania\"])"
   ]
  },
  {
   "cell_type": "code",
   "execution_count": null,
   "id": "1449d24d-8344-4fe0-8951-78fe9d75bd88",
   "metadata": {},
   "outputs": [],
   "source": []
  }
 ],
 "metadata": {
  "kernelspec": {
   "display_name": "Python 3 (ipykernel)",
   "language": "python",
   "name": "python3"
  },
  "language_info": {
   "codemirror_mode": {
    "name": "ipython",
    "version": 3
   },
   "file_extension": ".py",
   "mimetype": "text/x-python",
   "name": "python",
   "nbconvert_exporter": "python",
   "pygments_lexer": "ipython3",
   "version": "3.10.9"
  }
 },
 "nbformat": 4,
 "nbformat_minor": 5
}
